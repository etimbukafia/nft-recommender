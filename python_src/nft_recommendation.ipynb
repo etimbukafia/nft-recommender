{
 "cells": [
  {
   "cell_type": "code",
   "execution_count": null,
   "metadata": {},
   "outputs": [],
   "source": [
    "from moralis import evm_api\n",
    "import os\n",
    "import json"
   ]
  },
  {
   "cell_type": "markdown",
   "metadata": {},
   "source": [
    "GETTING ENVIRONMENTAL VARIABLES"
   ]
  },
  {
   "cell_type": "code",
   "execution_count": null,
   "metadata": {},
   "outputs": [],
   "source": [
    "moralis_api_key = os.getenv('MORALIS_API_KEY')\n",
    "pinecone_api_key = os.getenv('PINECONE_API_KEY')"
   ]
  },
  {
   "cell_type": "code",
   "execution_count": null,
   "metadata": {},
   "outputs": [],
   "source": [
    "# Wallet address of User I'm using to test\n",
    "account_address = \"0x9966CfE397CeA90D81e1E45F35Fee4723C2dAe6E\""
   ]
  },
  {
   "cell_type": "markdown",
   "metadata": {},
   "source": [
    "GETTING RECENT NFT PURCHASE"
   ]
  },
  {
   "cell_type": "code",
   "execution_count": 99,
   "metadata": {},
   "outputs": [],
   "source": [
    "def get_wallet_nft_transfers(account_address, limit):\n",
    "  # Parameters required by the get_wallet_nft_transfers endpoint\n",
    "  params = {\n",
    "    \"chain\": \"eth\",\n",
    "    \"format\": \"decimal\",\n",
    "    \"order\": \"DESC\",\n",
    "    \"limit\": limit,\n",
    "    \"address\": account_address\n",
    "  }\n",
    "\n",
    "  wallet_nft_transfers_result = evm_api.nft.get_wallet_nft_transfers(\n",
    "    api_key=moralis_api_key,\n",
    "    params=params,\n",
    "  )\n",
    "\n",
    "  return wallet_nft_transfers_result\n",
    "\n",
    "  # Function to get the last bought nft by the user (Moralis doesn't have an endpoint for getting just a user's recent nft purchase exclusively)\n",
    "\n",
    "def get_last_bought_nft_by_account(account_address, transactions):\n",
    "    # Filtering transactions based on 'to_address' matching the account_address\n",
    "    filtered_transactions = [\n",
    "        txn for txn in transactions if txn['to_address'] == account_address.lower()\n",
    "    ]\n",
    "    # Returning the 'to_address' of the most recent transaction if available\n",
    "    if filtered_transactions:\n",
    "      return filtered_transactions[0]['token_address'], filtered_transactions[0]['token_id']\n",
    "    else:\n",
    "      return None  # Return None if no matching transactions found\n"
   ]
  },
  {
   "cell_type": "code",
   "execution_count": 102,
   "metadata": {},
   "outputs": [],
   "source": [
    "def latest_nft_purchase():\n",
    "    transactions = get_wallet_nft_transfers(account_address, 10)\n",
    "    token_address, token_id = get_last_bought_nft_by_account(account_address, transactions['result'])\n",
    "    return token_address, token_id"
   ]
  },
  {
   "cell_type": "code",
   "execution_count": 103,
   "metadata": {},
   "outputs": [],
   "source": [
    "token_address, token_id = latest_nft_purchase()"
   ]
  },
  {
   "cell_type": "code",
   "execution_count": 104,
   "metadata": {},
   "outputs": [
    {
     "name": "stdout",
     "output_type": "stream",
     "text": [
      "0x026224a2940bfe258d0dbe947919b62fe321f042 2950\n"
     ]
    }
   ],
   "source": [
    "print(token_address, token_id)"
   ]
  },
  {
   "cell_type": "markdown",
   "metadata": {},
   "source": [
    "GETTING IMAGE URL OF RECENTLY PURCHASED NFT"
   ]
  },
  {
   "cell_type": "code",
   "execution_count": 122,
   "metadata": {},
   "outputs": [],
   "source": [
    "def get_multiple_nft_result(address, id):\n",
    "  body = {\n",
    "      \"tokens\": [\n",
    "          {\n",
    "              \"token_address\": address,\n",
    "              \"token_id\": id\n",
    "          },\n",
    "      ],\n",
    "      \"media_items\": True,\n",
    "      \"normalize_metadata\": True\n",
    "  }\n",
    "\n",
    "  params = {\n",
    "    \"chain\": \"eth\"\n",
    "  }\n",
    "\n",
    "  multiple_nft_result = evm_api.nft.get_multiple_nfts(\n",
    "    api_key=moralis_api_key,\n",
    "    body=body,\n",
    "    params=params,\n",
    "  )\n",
    "\n",
    "  return multiple_nft_result"
   ]
  },
  {
   "cell_type": "code",
   "execution_count": 123,
   "metadata": {},
   "outputs": [],
   "source": [
    "def extract_image_url():\n",
    "    ipfsGateway = \"https://ipfs.io/ipfs/\"\n",
    "    ipfs_url = \"ipfs://\"\n",
    "\n",
    "    # Parsing the get_multiple_nft_result into a dictionary\n",
    "    nft_response = get_multiple_nft_result(token_address, token_id)\n",
    "    metadata = json.loads(nft_response[0]['metadata'])\n",
    "    image_url = metadata['image']\n",
    "\n",
    "    # Replace IPFS prefix if necessary\n",
    "    return image_url.replace(ipfs_url, ipfsGateway) if image_url.startswith(ipfs_url) else image_url"
   ]
  }
 ],
 "metadata": {
  "kernelspec": {
   "display_name": "propertyenv",
   "language": "python",
   "name": "python3"
  },
  "language_info": {
   "codemirror_mode": {
    "name": "ipython",
    "version": 3
   },
   "file_extension": ".py",
   "mimetype": "text/x-python",
   "name": "python",
   "nbconvert_exporter": "python",
   "pygments_lexer": "ipython3",
   "version": "3.11.1"
  }
 },
 "nbformat": 4,
 "nbformat_minor": 2
}
